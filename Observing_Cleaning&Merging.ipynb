{
 "cells": [
  {
   "cell_type": "markdown",
   "metadata": {},
   "source": [
    "# Cleaning and merging for downloads files"
   ]
  },
  {
   "cell_type": "markdown",
   "metadata": {},
   "source": [
    "**Note:** For demonstration purposes, this notebook showcases data cleaning and preparation steps on a subset of files (2-3 files). The same cleaning, transformation, and preparation processes were applied to all other datasets locally as part of the complete project workflow."
   ]
  },
  {
   "cell_type": "markdown",
   "metadata": {},
   "source": [
    "**Importing Libraries**"
   ]
  },
  {
   "cell_type": "code",
   "execution_count": 1,
   "metadata": {},
   "outputs": [],
   "source": [
    "import pandas as pd \n",
    "import numpy as np \n"
   ]
  },
  {
   "cell_type": "markdown",
   "metadata": {},
   "source": [
    "**Importing All files Related to Downloads**"
   ]
  },
  {
   "cell_type": "code",
   "execution_count": 2,
   "metadata": {},
   "outputs": [
    {
     "name": "stdout",
     "output_type": "stream",
     "text": [
      "total_downloads:\n",
      "          Name Hot Air Balloons Adventure\n",
      "0  Start Date                    11/1/19\n",
      "1    End Date                    10/1/24\n",
      "2        Date            Total Downloads\n",
      "3     10/1/19                        4.0\n",
      "4     11/1/19                       11.0 \n",
      "\n",
      "first_time_downloads:\n",
      "          Name Hot Air Balloons Adventure\n",
      "0  Start Date                    11/1/19\n",
      "1    End Date                    10/1/24\n",
      "2        Date       First-Time Downloads\n",
      "3     10/1/19                        4.0\n",
      "4     11/1/19                       11.0 \n",
      "\n",
      "re_downloads:\n",
      "          Name Hot Air Balloons Adventure\n",
      "0  Start Date                    11/1/19\n",
      "1    End Date                    10/1/24\n",
      "2        Date                Redownloads\n",
      "3     10/1/19                        0.0\n",
      "4     11/1/19                        0.0 \n",
      "\n"
     ]
    }
   ],
   "source": [
    "# Define file paths\n",
    "files = {\n",
    "    \"total_downloads\": 'Hot air Baloon/Total_Downloads.csv',\n",
    "    \"first_time_downloads\": 'Hot air Baloon/First-Time Downloads.csv',\n",
    "    \"re_downloads\": 'Hot air Baloon/Redownloads.csv'\n",
    "}\n",
    "\n",
    "# Load dataframes into memory\n",
    "dataframes = {name: pd.read_csv(path) for name, path in files.items()}\n",
    "\n",
    "\n",
    "# Load and preview the datasets\n",
    "for name, path in files.items():\n",
    "    df = pd.read_csv(path)\n",
    "    print(f\"{name}:\\n\", df.head(), \"\\n\")"
   ]
  },
  {
   "cell_type": "markdown",
   "metadata": {},
   "source": [
    "##  Observing Datasets"
   ]
  },
  {
   "cell_type": "markdown",
   "metadata": {},
   "source": [
    "**Checking Shape of All Data Sets**"
   ]
  },
  {
   "cell_type": "code",
   "execution_count": 3,
   "metadata": {},
   "outputs": [
    {
     "name": "stdout",
     "output_type": "stream",
     "text": [
      "total_downloads: (64, 2)\n",
      "first_time_downloads: (64, 2)\n",
      "re_downloads: (64, 2)\n"
     ]
    }
   ],
   "source": [
    "# Iterate over datasets and print their shapes\n",
    "for name, path in files.items():\n",
    "    df = pd.read_csv(path)\n",
    "    print(f\"{name}: {df.shape}\")  # Correct usage of shape"
   ]
  },
  {
   "cell_type": "markdown",
   "metadata": {},
   "source": [
    "info(): Provides a concise summary of the DataFrame, including the number of non-null entries, data types, and memory usage."
   ]
  },
  {
   "cell_type": "code",
   "execution_count": 4,
   "metadata": {},
   "outputs": [
    {
     "name": "stdout",
     "output_type": "stream",
     "text": [
      "Info for total_downloads:\n",
      "<class 'pandas.core.frame.DataFrame'>\n",
      "RangeIndex: 64 entries, 0 to 63\n",
      "Data columns (total 2 columns):\n",
      " #   Column                      Non-Null Count  Dtype \n",
      "---  ------                      --------------  ----- \n",
      " 0   Name                        64 non-null     object\n",
      " 1   Hot Air Balloons Adventure  64 non-null     object\n",
      "dtypes: object(2)\n",
      "memory usage: 1.1+ KB\n",
      "None\n",
      "--------------------------------------------------\n",
      "Info for first_time_downloads:\n",
      "<class 'pandas.core.frame.DataFrame'>\n",
      "RangeIndex: 64 entries, 0 to 63\n",
      "Data columns (total 2 columns):\n",
      " #   Column                      Non-Null Count  Dtype \n",
      "---  ------                      --------------  ----- \n",
      " 0   Name                        64 non-null     object\n",
      " 1   Hot Air Balloons Adventure  64 non-null     object\n",
      "dtypes: object(2)\n",
      "memory usage: 1.1+ KB\n",
      "None\n",
      "--------------------------------------------------\n",
      "Info for re_downloads:\n",
      "<class 'pandas.core.frame.DataFrame'>\n",
      "RangeIndex: 64 entries, 0 to 63\n",
      "Data columns (total 2 columns):\n",
      " #   Column                      Non-Null Count  Dtype \n",
      "---  ------                      --------------  ----- \n",
      " 0   Name                        64 non-null     object\n",
      " 1   Hot Air Balloons Adventure  64 non-null     object\n",
      "dtypes: object(2)\n",
      "memory usage: 1.1+ KB\n",
      "None\n",
      "--------------------------------------------------\n"
     ]
    }
   ],
   "source": [
    "# Check info of all dataframes\n",
    "for name, df in dataframes.items():\n",
    "    print(f\"Info for {name}:\")\n",
    "    print(df.info())\n",
    "    print(\"-\" * 50)  # Separator for clarity\n"
   ]
  },
  {
   "cell_type": "markdown",
   "metadata": {},
   "source": [
    "describe(): Generates descriptive statistics of the numerical columns, providing insights into the data distribution, including count, mean, standard deviation, min, max, and quartiles."
   ]
  },
  {
   "cell_type": "code",
   "execution_count": 5,
   "metadata": {},
   "outputs": [
    {
     "name": "stdout",
     "output_type": "stream",
     "text": [
      "description for total_downloads:\n",
      "              Name Hot Air Balloons Adventure\n",
      "count           64                         64\n",
      "unique          64                         23\n",
      "top     Start Date                       12.0\n",
      "freq             1                          9\n",
      "--------------------------------------------------\n",
      "description for first_time_downloads:\n",
      "              Name Hot Air Balloons Adventure\n",
      "count           64                         64\n",
      "unique          64                         21\n",
      "top     Start Date                       11.0\n",
      "freq             1                          9\n",
      "--------------------------------------------------\n",
      "description for re_downloads:\n",
      "              Name Hot Air Balloons Adventure\n",
      "count           64                         64\n",
      "unique          64                          9\n",
      "top     Start Date                        0.0\n",
      "freq             1                         31\n",
      "--------------------------------------------------\n"
     ]
    }
   ],
   "source": [
    "for name, df in dataframes.items():\n",
    "    print(f\"description for {name}:\")\n",
    "    print(df.describe())\n",
    "    print(\"-\"*50)\n",
    "\n"
   ]
  },
  {
   "cell_type": "markdown",
   "metadata": {},
   "source": [
    "## Cleaning And Prepration"
   ]
  },
  {
   "cell_type": "markdown",
   "metadata": {},
   "source": [
    "### Cleaning"
   ]
  },
  {
   "cell_type": "markdown",
   "metadata": {},
   "source": [
    "Checking Missing Values "
   ]
  },
  {
   "cell_type": "code",
   "execution_count": 6,
   "metadata": {},
   "outputs": [
    {
     "name": "stdout",
     "output_type": "stream",
     "text": [
      "Missing values in total_downloads:\n",
      "Name                          0\n",
      "Hot Air Balloons Adventure    0\n",
      "dtype: int64\n",
      "------------------------------\n",
      "Missing values in first_time_downloads:\n",
      "Name                          0\n",
      "Hot Air Balloons Adventure    0\n",
      "dtype: int64\n",
      "------------------------------\n",
      "Missing values in re_downloads:\n",
      "Name                          0\n",
      "Hot Air Balloons Adventure    0\n",
      "dtype: int64\n",
      "------------------------------\n"
     ]
    }
   ],
   "source": [
    "for name, df in dataframes.items():\n",
    "    print(f\"Missing values in {name}:\")\n",
    "    print(df.isnull().sum())  # Check missing values for each dataframe\n",
    "    print(\"-\" * 30)  # Separator for clarity\n"
   ]
  },
  {
   "cell_type": "markdown",
   "metadata": {},
   "source": [
    "### Prepraing The Data (accoring to my need)"
   ]
  },
  {
   "cell_type": "markdown",
   "metadata": {},
   "source": [
    "Looking for current Column Names"
   ]
  },
  {
   "cell_type": "code",
   "execution_count": 7,
   "metadata": {},
   "outputs": [
    {
     "name": "stdout",
     "output_type": "stream",
     "text": [
      "Missing values in total_downloads:\n",
      "Index(['Name', 'Hot Air Balloons Adventure'], dtype='object')\n",
      "------------------------------\n",
      "Missing values in first_time_downloads:\n",
      "Index(['Name', 'Hot Air Balloons Adventure'], dtype='object')\n",
      "------------------------------\n",
      "Missing values in re_downloads:\n",
      "Index(['Name', 'Hot Air Balloons Adventure'], dtype='object')\n",
      "------------------------------\n"
     ]
    }
   ],
   "source": [
    "# CHecking current Columns\n",
    "for name, df in dataframes.items():\n",
    "    print(f\"Missing values in {name}:\")\n",
    "    print(df.columns)  # Check missing values for each dataframe\n",
    "    print(\"-\" * 30)  # Separator for clarity"
   ]
  },
  {
   "cell_type": "markdown",
   "metadata": {},
   "source": [
    "So, These are not the correct name of columns, lets clean the the data as i need the column name  'Date' and 'Time' of download e.g first or total etc. Also ['Name', 'Hot Air Balloons Adventure' ]it is the name of game written in rows instead of file name so, we have to remove this from rows, for that i will remove the few rows containg these and start from where the actual data starts"
   ]
  },
  {
   "cell_type": "markdown",
   "metadata": {},
   "source": [
    "**Renaming first_time_downloads and resetting index while droping unnessory rows**"
   ]
  },
  {
   "cell_type": "code",
   "execution_count": 12,
   "metadata": {},
   "outputs": [
    {
     "name": "stdout",
     "output_type": "stream",
     "text": [
      "Index before resetting:\n",
      "RangeIndex(start=0, stop=64, step=1)\n",
      "Shape of the DataFrame: (64, 2)\n",
      "First few rows after resetting the index:\n",
      "         Name Hot Air Balloons Adventure\n",
      "0  Start Date                    11/1/19\n",
      "1    End Date                    10/1/24\n",
      "2        Date       First-Time Downloads\n",
      "3     10/1/19                        4.0\n",
      "4     11/1/19                       11.0\n",
      "DataFrame after renaming and dropping rows:\n",
      "       Date First-Time Downloads\n",
      "3   10/1/19                  4.0\n",
      "4   11/1/19                 11.0\n",
      "5   12/1/19                 18.0\n",
      "6    1/1/20                 13.0\n",
      "7    2/1/20                 15.0\n",
      "8    3/1/20                  8.0\n",
      "9    4/1/20                 12.0\n",
      "10   5/1/20                  9.0\n",
      "11   6/1/20                 17.0\n",
      "12   7/1/20                  7.0\n"
     ]
    }
   ],
   "source": [
    "# Access 'first_time_downloads' DataFrame\n",
    "first_time_downloads = dataframes['first_time_downloads']\n",
    "\n",
    "# Step 1: Check and reset the index\n",
    "print(\"Index before resetting:\")\n",
    "print(first_time_downloads.index)\n",
    "\n",
    "# Reset the index and drop the old one\n",
    "first_time_downloads = first_time_downloads.reset_index(drop=True)\n",
    "\n",
    "# Step 2: Print the DataFrame's shape and preview\n",
    "print(f\"Shape of the DataFrame: {first_time_downloads.shape}\")\n",
    "print(\"First few rows after resetting the index:\")\n",
    "print(first_time_downloads.head())\n",
    "\n",
    "# Step 3: Rename specific columns\n",
    "first_time_downloads = first_time_downloads.rename(\n",
    "    columns={'Name': 'Date', 'Hot Air Balloons Adventure': 'First-Time Downloads'}\n",
    ")\n",
    "\n",
    "# Step 4: Drop specific rows (0, 1, 2)\n",
    "first_time_downloads = first_time_downloads.drop(index=[0, 1, 2])\n",
    "\n",
    "# Step 5: Print the updated DataFrame\n",
    "print(\"DataFrame after renaming and dropping rows:\")\n",
    "print(first_time_downloads.head(10))"
   ]
  },
  {
   "cell_type": "code",
   "execution_count": null,
   "metadata": {},
   "outputs": [],
   "source": [
    "# Drop the 'index' column from the DataFrame\n",
    "firs_time_downloads = firs_time_downloads.drop(columns=['index'])\n",
    "\n",
    "# Check the result\n",
    "print(firs_time_downloads)"
   ]
  },
  {
   "cell_type": "markdown",
   "metadata": {},
   "source": [
    "**Renaming re_downloads and resetting index while droping unnessory rows**"
   ]
  },
  {
   "cell_type": "code",
   "execution_count": null,
   "metadata": {},
   "outputs": [],
   "source": [
    "#Droping First 3 rows of re_downloads\n",
    "re_downloads = re_downloads.drop(re_downloads.index[[0, 1, 2]])\n",
    "print(re_downloads.shape)\n",
    "print(re_downloads.head(4))\n"
   ]
  },
  {
   "cell_type": "code",
   "execution_count": null,
   "metadata": {},
   "outputs": [],
   "source": [
    "print(re_downloads.index)  # Check the index before resetting\n",
    "re_downloads = re_downloads.reset_index(drop=False)  # Reset the index\n",
    "print(re_downloads.head(4))"
   ]
  },
  {
   "cell_type": "code",
   "execution_count": null,
   "metadata": {},
   "outputs": [],
   "source": [
    "# Renaming re downloads specific columns\n",
    "re_downloads = re_downloads.rename(columns={'Name': 'Date', 'Hot Air Balloons Adventure': 're_downloads'})\n",
    "re_downloads.columns = re_downloads.columns.str.strip()\n",
    "print(re_downloads.columns)"
   ]
  },
  {
   "cell_type": "markdown",
   "metadata": {},
   "source": [
    "**Removing old index column**"
   ]
  },
  {
   "cell_type": "code",
   "execution_count": null,
   "metadata": {},
   "outputs": [],
   "source": [
    "# Drop the 'index' column from the DataFrame\n",
    "re_downloads = re_downloads.drop(columns=['index'])\n",
    "\n",
    "# Check the result\n",
    "print(re_downloads)"
   ]
  },
  {
   "cell_type": "markdown",
   "metadata": {},
   "source": [
    "**Renaming total_downloads and resetting index while droping unnessory rows**"
   ]
  },
  {
   "cell_type": "code",
   "execution_count": null,
   "metadata": {},
   "outputs": [],
   "source": [
    "total_downloads = total_downloads.drop(total_downloads.index[[0, 1, 2]])\n"
   ]
  },
  {
   "cell_type": "code",
   "execution_count": null,
   "metadata": {},
   "outputs": [],
   "source": [
    "\n",
    "print(total_downloads.index)  # Check the index before resetting\n",
    "total_downloads = total_downloads.reset_index(drop=False)  # Reset the index"
   ]
  },
  {
   "cell_type": "code",
   "execution_count": null,
   "metadata": {},
   "outputs": [],
   "source": [
    "\n",
    "total_downloads = total_downloads.rename(columns={'Name': 'Date', 'Hot Air Balloons Adventure': 'total_downloads'})\n",
    "total_downloads.columns = total_downloads.columns.str.strip()\n",
    "print(total_downloads.columns)\n",
    "print(total_downloads.head(5))\n"
   ]
  },
  {
   "cell_type": "markdown",
   "metadata": {},
   "source": [
    "**Removing old index column**"
   ]
  },
  {
   "cell_type": "code",
   "execution_count": null,
   "metadata": {},
   "outputs": [],
   "source": [
    "# Drop the 'index' column from the DataFrame\n",
    "total_downloads = total_downloads.drop(columns=['index'])\n",
    "\n",
    "# Check the result\n",
    "print(total_downloads)\n"
   ]
  },
  {
   "cell_type": "markdown",
   "metadata": {},
   "source": [
    "## Merging"
   ]
  },
  {
   "cell_type": "code",
   "execution_count": null,
   "metadata": {},
   "outputs": [],
   "source": [
    "# Step 1: Select only the necessary columns from each DataFrame\n",
    "firs_time_downloads_selected = firs_time_downloads[['Date', 'First-Time Downloads']]\n",
    "re_downloads_selected = re_downloads[['Date', 're_downloads']]\n",
    "total_downloads_selected = total_downloads[['Date', 'total_downloads']]\n",
    "\n",
    "# Step 2: Merge the DataFrames without including any extra index columns\n",
    "first_merge = pd.merge(firs_time_downloads_selected, re_downloads_selected, on='Date', how='inner')\n",
    "final_merge = pd.merge(first_merge, total_downloads_selected, on='Date', how='inner')\n",
    "\n",
    "# Step 3: Check the result\n",
    "print(\"\\nInner Merge Result:\")\n",
    "print(final_merge)\n",
    "\n"
   ]
  },
  {
   "cell_type": "markdown",
   "metadata": {},
   "source": [
    "**Now I will Export it into New Data File named \"Downloads_After_Merge\"**"
   ]
  },
  {
   "cell_type": "code",
   "execution_count": null,
   "metadata": {},
   "outputs": [],
   "source": [
    "#commenting so dont run repeadtly and make files\n",
    "#final_merge.to_csv('Downloads_After_Merge.csv', index= False)"
   ]
  }
 ],
 "metadata": {
  "kernelspec": {
   "display_name": "Python 3",
   "language": "python",
   "name": "python3"
  },
  "language_info": {
   "codemirror_mode": {
    "name": "ipython",
    "version": 3
   },
   "file_extension": ".py",
   "mimetype": "text/x-python",
   "name": "python",
   "nbconvert_exporter": "python",
   "pygments_lexer": "ipython3",
   "version": "3.13.0"
  }
 },
 "nbformat": 4,
 "nbformat_minor": 2
}
